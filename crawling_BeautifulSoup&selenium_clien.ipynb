{
 "cells": [
  {
   "cell_type": "markdown",
   "metadata": {},
   "source": [
    "#crawling_BeautifulSoup_clien"
   ]
  },
  {
   "cell_type": "code",
   "execution_count": 4,
   "metadata": {
    "collapsed": true
   },
   "outputs": [],
   "source": [
    "import urllib\n",
    "#form urllib.request import urlopen\n",
    "import re\n",
    "import requests\n",
    "from bs4 import BeautifulSoup"
   ]
  },
  {
   "cell_type": "markdown",
   "metadata": {},
   "source": [
    "https://www.clien.net/service/search?q=%EB%AA%B0%ED%85%8C%EC%9D%BC&sort=recency&p=\" +str(i) \"&boardCd=&isBoard=false\n",
    "    위의 str(i)가 0부터 시작(0 = 1page)\n",
    "    하나의 page 당 20개의  list 존재\n",
    "  ---> 할필요 없다 글 하나 들어가면 어차피 p= 에대한 주소 명령어 없어짐\n",
    "    https://www.clien.net/service/board/cm_iphonien/11202084\n",
    "    https://www.clien.net/service/board/cm_iphonien/11202606\n",
    "    https://www.clien.net/service/board/cm_iphonien/11201984\n",
    "        최신순으로 총3개 위에서 순서대로 불러온 주소값이다. \n",
    "        규칙이 없다. \n",
    "        ___> selenium 이용해서 하나 하나 페이지 입력하게 해야할듯.\n",
    "\n",
    "for 구문 예상 \n",
    "    for 1차 = selenium 으로 page 클릭\n",
    "        for 2차 = 한페이지에 있는 20개의 글 클릭\n",
    "            for 3차 = 한 글에 있는 소스코드 특징상 크롤링 !\n"
   ]
  },
  {
   "cell_type": "code",
   "execution_count": 3,
   "metadata": {
    "collapsed": true
   },
   "outputs": [],
   "source": [
    "from selenium import webdriver"
   ]
  },
  {
   "cell_type": "code",
   "execution_count": 5,
   "metadata": {},
   "outputs": [
    {
     "name": "stdout",
     "output_type": "stream",
     "text": [
      "[<a class=\"subject-shortname\" onclick=\"app.boardCdSearch('cm_iphonien', '아이포니앙')\"><i aria-hidden=\"true\" class=\"fa fa-search-plus\"></i> 아이포니앙</a>, <a class=\"subject-shortname\" onclick=\"app.boardCdSearch('cm_iphonien', '아이포니앙')\"><i aria-hidden=\"true\" class=\"fa fa-search-plus\"></i> 아이포니앙</a>, <a class=\"subject-shortname\" onclick=\"app.boardCdSearch('cm_iphonien', '아이포니앙')\"><i aria-hidden=\"true\" class=\"fa fa-search-plus\"></i> 아이포니앙</a>, <a class=\"subject-shortname\" onclick=\"app.boardCdSearch('cm_iphonien', '아이포니앙')\"><i aria-hidden=\"true\" class=\"fa fa-search-plus\"></i> 아이포니앙</a>, <a class=\"subject-shortname\" onclick=\"app.boardCdSearch('cm_iphonien', '아이포니앙')\"><i aria-hidden=\"true\" class=\"fa fa-search-plus\"></i> 아이포니앙</a>, <a class=\"subject-shortname\" onclick=\"app.boardCdSearch('cm_iphonien', '아이포니앙')\"><i aria-hidden=\"true\" class=\"fa fa-search-plus\"></i> 아이포니앙</a>, <a class=\"subject-shortname\" onclick=\"app.boardCdSearch('cm_iphonien', '아이포니앙')\"><i aria-hidden=\"true\" class=\"fa fa-search-plus\"></i> 아이포니앙</a>, <a class=\"subject-shortname\" onclick=\"app.boardCdSearch('cm_iphonien', '아이포니앙')\"><i aria-hidden=\"true\" class=\"fa fa-search-plus\"></i> 아이포니앙</a>, <a class=\"subject-shortname\" onclick=\"app.boardCdSearch('cm_iphonien', '아이포니앙')\"><i aria-hidden=\"true\" class=\"fa fa-search-plus\"></i> 아이포니앙</a>, <a class=\"subject-shortname\" onclick=\"app.boardCdSearch('kin', '아무거나 질문')\"><i aria-hidden=\"true\" class=\"fa fa-search-plus\"></i> 아무거나 질문</a>, <a class=\"subject-shortname\" onclick=\"app.boardCdSearch('cm_iphonien', '아이포니앙')\"><i aria-hidden=\"true\" class=\"fa fa-search-plus\"></i> 아이포니앙</a>, <a class=\"subject-shortname\" onclick=\"app.boardCdSearch('cm_iphonien', '아이포니앙')\"><i aria-hidden=\"true\" class=\"fa fa-search-plus\"></i> 아이포니앙</a>, <a class=\"subject-shortname\" onclick=\"app.boardCdSearch('cm_edc', '갖고다닌당')\"><i aria-hidden=\"true\" class=\"fa fa-search-plus\"></i> 갖고다닌당</a>, <a class=\"subject-shortname\" onclick=\"app.boardCdSearch('cm_iphonien', '아이포니앙')\"><i aria-hidden=\"true\" class=\"fa fa-search-plus\"></i> 아이포니앙</a>, <a class=\"subject-shortname\" onclick=\"app.boardCdSearch('cm_iphonien', '아이포니앙')\"><i aria-hidden=\"true\" class=\"fa fa-search-plus\"></i> 아이포니앙</a>, <a class=\"subject-shortname\" onclick=\"app.boardCdSearch('cm_iphonien', '아이포니앙')\"><i aria-hidden=\"true\" class=\"fa fa-search-plus\"></i> 아이포니앙</a>, <a class=\"subject-shortname\" onclick=\"app.boardCdSearch('cm_iphonien', '아이포니앙')\"><i aria-hidden=\"true\" class=\"fa fa-search-plus\"></i> 아이포니앙</a>, <a class=\"subject-shortname\" onclick=\"app.boardCdSearch('park', '모두의공원')\"><i aria-hidden=\"true\" class=\"fa fa-search-plus\"></i> 모두의공원</a>, <a class=\"subject-shortname\" onclick=\"app.boardCdSearch('cm_iphonien', '아이포니앙')\"><i aria-hidden=\"true\" class=\"fa fa-search-plus\"></i> 아이포니앙</a>, <a class=\"subject-shortname\" onclick=\"app.boardCdSearch('cm_iphonien', '아이포니앙')\"><i aria-hidden=\"true\" class=\"fa fa-search-plus\"></i> 아이포니앙</a>]\n",
      "[<a class=\"list-subject\" href=\"https://www.clien.net/service/board/cm_iphonien/11231104\">\n",
      "\t\t\t\t\t\t\t\t\t\t\t\t\t\t분명 ups에는 도착이라는데....\n",
      "\t\t\t\t\t\t</a>, <a class=\"list-subject\" href=\"https://www.clien.net/service/board/cm_iphonien/11230968\">\n",
      "\t\t\t\t\t\t\t\t\t\t\t\t\t\t아이폰 <b>몰테일</b> 직구, 보험 넣는게 나을까요 ㅠ\n",
      "\t\t\t\t\t\t</a>, <a class=\"list-subject\" href=\"https://www.clien.net/service/board/cm_iphonien/11230589\">\n",
      "<b>몰테일</b> 도착 했는데\n",
      "\t\t\t\t\t\t</a>, <a class=\"list-subject\" href=\"https://www.clien.net/service/board/cm_iphonien/11229526\">\n",
      "\t\t\t\t\t\t\t\t\t\t\t\t\t\t몰꼬리 도착하면 배송비 결제하라고 할때까지 오래걸릴까요?\n",
      "\t\t\t\t\t\t</a>, <a class=\"list-subject\" href=\"https://www.clien.net/service/board/cm_iphonien/11228270\">\n",
      "\t\t\t\t\t\t\t\t\t\t\t\t\t\t아이폰 직구한거 리턴 도움 좀 부탁드려요\n",
      "\t\t\t\t\t\t</a>, <a class=\"list-subject\" href=\"https://www.clien.net/service/board/cm_iphonien/11228184\">\n",
      "\t\t\t\t\t\t\t\t\t\t\t\t\t\t드뎌 결제...하지만...;;\n",
      "\t\t\t\t\t\t</a>, <a class=\"list-subject\" href=\"https://www.clien.net/service/board/cm_iphonien/11228072\">\n",
      "\t\t\t\t\t\t\t\t\t\t\t\t\t\t몰xx DE에 오전에 도착은 했는데\n",
      "\t\t\t\t\t\t</a>, <a class=\"list-subject\" href=\"https://www.clien.net/service/board/cm_iphonien/11227558\">\n",
      "\t\t\t\t\t\t\t\t\t\t\t\t\t\t아이폰8 직구 성공!?\n",
      "\t\t\t\t\t\t</a>, <a class=\"list-subject\" href=\"https://www.clien.net/service/board/cm_iphonien/11226675\">\n",
      "\t\t\t\t\t\t\t\t\t\t\t\t\t\t19일 주문 아이폰8 카드 빠져나갔습니다아’ㅜ\n",
      "\t\t\t\t\t\t</a>, <a class=\"list-subject\" href=\"https://www.clien.net/service/board/kin/11225720\">\n",
      "\t\t\t\t\t\t\t\t\t\t\t\t\t\t부모님용 65인치 tv 추천 좀 해주세요.\n",
      "\t\t\t\t\t\t</a>, <a class=\"list-subject\" href=\"https://www.clien.net/service/board/cm_iphonien/11225158\">\n",
      "\t\t\t\t\t\t\t\t\t\t\t\t\t\t이제 관건은 추석전이냐 후이냐네요\n",
      "\t\t\t\t\t\t</a>, <a class=\"list-subject\" href=\"https://www.clien.net/service/board/cm_iphonien/11224639\">\n",
      "\t\t\t\t\t\t\t\t\t\t\t\t\t\t저도 8플 쉽 떴네요\n",
      "\t\t\t\t\t\t</a>, <a class=\"list-subject\" href=\"https://www.clien.net/service/board/cm_edc/11221188\">\n",
      "\t\t\t\t\t\t\t\t\t\t\t\t\t\t[나이프] 거버 포켓스퀘어 알루미늄 핸들\n",
      "\t\t\t\t\t\t</a>, <a class=\"list-subject\" href=\"https://www.clien.net/service/board/cm_iphonien/11217835\">\n",
      "\t\t\t\t\t\t\t\t\t\t\t\t\t\t아이폰8 중국 출발 했네용\n",
      "\t\t\t\t\t\t</a>, <a class=\"list-subject\" href=\"https://www.clien.net/service/board/cm_iphonien/11217632\">\n",
      "\t\t\t\t\t\t\t\t\t\t\t\t\t\t아이폰8/8+ 직구하신 분들 배송조회법입니다.\n",
      "\t\t\t\t\t\t</a>, <a class=\"list-subject\" href=\"https://www.clien.net/service/board/cm_iphonien/11217468\">\n",
      "\t\t\t\t\t\t\t\t\t\t\t\t\t\t이번 아이폰8 64기가 가격 예측.\n",
      "\t\t\t\t\t\t</a>, <a class=\"list-subject\" href=\"https://www.clien.net/service/board/cm_iphonien/11216523\">\n",
      "\t\t\t\t\t\t\t\t\t\t\t\t\t\t아이폰8 미국 오프라인에서 구매하는 방법이 궁금합니다.\n",
      "\t\t\t\t\t\t</a>, <a class=\"list-subject\" href=\"https://www.clien.net/service/board/park/11215306\">\n",
      "\t\t\t\t\t\t\t\t\t\t\t\t\t\t몰꼬리 예전보다 엄청 별로네요...\n",
      "\t\t\t\t\t\t</a>, <a class=\"list-subject\" href=\"https://www.clien.net/service/board/cm_iphonien/11212072\">\n",
      "\t\t\t\t\t\t\t\t\t\t\t\t\t\t아이폰 8 64g 직구 2개 하려는데 개당 배대지+세금포함 매리트가 있을까요 ?\n",
      "\t\t\t\t\t\t</a>, <a class=\"list-subject\" href=\"https://www.clien.net/service/board/cm_iphonien/11211739\">\n",
      "<b>몰테일</b>로 보낼때 보험 넣는게 나을까요?\n",
      "\t\t\t\t\t\t</a>]\n",
      "[<div class=\"list-info\" onclick=\"location.href='https://www.clien.net/service/board/cm_iphonien/11231104'\"><b>몰테일</b>은 아무런 반응이 없군요.... 델라웨어.. 증오하겠네요... 무조건 추석이후 수령이네요 ㅠ <b>몰테일</b>은 de에서 nj로 이동 후 입고확인 됩니다 <b>몰테일</b>은 물건 받아놓고 입고처리도 안하더군요. 배송이...</div>, <div class=\"list-info\" onclick=\"location.href='https://www.clien.net/service/board/cm_iphonien/11230968'\">지난번에도 궁금증을 참지못하고 같은 글을 올린적이 있는데요 막상 <b>몰테일</b> 델라웨어 도착하고나니 또 고민에 빠지게 되네요 이번에 아이폰 8 256GB, 아이폰 8+ 256GB 주문해서 지금 델라웨어에 도착해있는...</div>, <div class=\"list-info\" onclick=\"location.href='https://www.clien.net/service/board/cm_iphonien/11230589'\">애플 배송 상태는 완료로 뜨는데 <b>몰테일</b> 왜 일 안하나요 ㅠㅠ DE로 보냈는데 NJ로 보낸다음에 배송료 내라고 하나요?? 넵 <b>몰테일</b>은 이동시간때문에 계측 최소 하루늦어요 NJ로 이동하는데 기본 하루 걸리고 거기...</div>, <div class=\"list-info\" onclick=\"location.href='https://www.clien.net/service/board/cm_iphonien/11229526'\">않아서 저도 걍 대기탈까해요.... 밑에 댓글을 보니 당장 저희 물건을 처리해줄것같진 안아보여요.... <b>몰테일</b>이면 미리 오머니였나? 그걸로 선결제 해놓고 자동결제 하면 밤 안 새도 알아서 보내줍니다.&amp;nbsp...</div>, <div class=\"list-info\" onclick=\"location.href='https://www.clien.net/service/board/cm_iphonien/11228270'\">애플스토어에서 리턴 신청 하니까 이렇게 두 가지가 뜨는데요 리턴 라벨은 pdf로 저장해서 나중에 <b>몰테일</b>에 보내면 될거 같은데 픽업은 제가 <b>몰테일</b> 주소로 신청을 하는건가요? 아니면 <b>몰테일</b>에 반송접수만 해...</div>, <div class=\"list-info\" onclick=\"location.href='https://www.clien.net/service/board/cm_iphonien/11228184'\">아이폰8 플러스 얼마전에 <b>몰테일</b> 주소로 주문했는데 결국 메일이 와서 주소 바꾸지 않으면 취소된다길래 아무생각없이 친구집 주소로 변경... 일단 그뒤로 결제 진행되고 친구도 받아서 제 배송대행지로 보내...</div>, <div class=\"list-info\" onclick=\"location.href='https://www.clien.net/service/board/cm_iphonien/11228072'\">방해하면 더 늦게올까봐ㅋㅋㅋㅋㅋ저는 그냥 기다리렵니다ㅎㅎㅎ 배대지 도착해도 떠나는게 오래걸리는 <b>몰테일</b>이라..&amp;nbsp; 오늘 도착이 되나요? ㄷㄷ 미국 시간으로는 21일일텐데 엄청나네요 ㅋㅋ de시라면 nj...</div>, <div class=\"list-info\" onclick=\"location.href='https://www.clien.net/service/board/cm_iphonien/11227558'\">ㅋ 사실 가격보다는 무음과 빨리 쓰는 메리트 때문에 직구를 하는 것 아닐까요? ㅎㅎ 그런건가요 ㅎㅎ <b>몰테일</b>은 다 실패하는 것&amp;nbsp;같아요. 배송도 느리고 굳이 <b>몰테일</b> 이용할 필요 없어 보여요.. 월요일 도착...</div>, <div class=\"list-info\" onclick=\"location.href='https://www.clien.net/service/board/cm_iphonien/11226675'\">아직 제품처리중이긴 한데, <b>몰테일</b> DE로 안전하게 올듯 싶어요ㅎㅎㅎ 애플에서 이번에 배대지를 봐주나 봅니다ㅎㅎ참고하세용</div>, <div class=\"list-info\" onclick=\"location.href='https://www.clien.net/service/board/kin/11225720'\">view.php?id=ppomppu&amp;amp;page=1&amp;amp;divpage=48&amp;amp;&amp;amp;no=272608 이렇게! @님&amp;nbsp; 안그래도 <b>몰테일</b>에서 봤는데, 괜찮은 제품인가보네요. 댓글 감사합니다. 2017년형 LG모델은 rgbw패널로 문제가...</div>, <div class=\"list-info\" onclick=\"location.href='https://www.clien.net/service/board/cm_iphonien/11225158'\">되겠네요 기대됩니다 아이폰 몰꼬리 DE는 뉴저지로 이동후에 한국으로 배송되기 때문에, 1~2일 더 걸리지않나요...? <b>몰테일</b> DE는 시간 더 걸리는거 맞습니다. 추석 전 간당간당하죠.&amp;nbsp; 헐 저도 <b>몰테일</b> DE...</div>, <div class=\"list-info\" onclick=\"location.href='https://www.clien.net/service/board/cm_iphonien/11224639'\">정해지시겠군요... 네ㅋㅋㅋ 6월에 아이패드 프로 직구한 회사직원은 4~5일정도 걸린거 같더라고요 <b>몰테일</b> 일을 너무 늦게 처리해서 다음주중에는 받기 어렵지 않을까요? 그러게요. 요즘에 좀 늦게 처리...</div>, <div class=\"list-info\" onclick=\"location.href='https://www.clien.net/service/board/cm_edc/11221188'\">당근 도시남자의 선택은 알루미늄 핸들입니다. 방금 따끈따끈하게아마존에서도착하였습니다. (사실은<b>몰테일</b>) 라이프타임 워런티... 정말 해줄꺼지 거버?? 포켓나이프인만큼 포켓 클립이 달려 있고 패키지에...</div>, <div class=\"list-info\" onclick=\"location.href='https://www.clien.net/service/board/cm_iphonien/11217835'\">휴 ㄷ행... 머나먼 여정을 시작하는군요ㅜ <b>몰테일</b> 이신가요? 아니요~ 쉽뜨 뜨신건가요?? 쉽드는 아직 안떳어요 아 번호로 조회하셨군요!</div>, <div class=\"list-info\" onclick=\"location.href='https://www.clien.net/service/board/cm_iphonien/11217632'\">결국 애플공홈에서 알려주기전까지는 남의 아이폰을 쳐다보고 있을수도 있겟네요 ㅋㅋㅋ 저 <b>몰테일</b> DE로 주문했는데 안뜨면 배송 안하고 있는건가요ㅠㅠ 승인문자는 왔고 애플에서는 출고대기중이에요 승인 뜬...</div>, <div class=\"list-info\" onclick=\"location.href='https://www.clien.net/service/board/cm_iphonien/11217468'\">카드가 80.4만이 찍혔습니다 <b>몰테일</b> 7달러 고정배송비 이벤트에 관세 10프로하면 89만원 정도 예상되네요 이번 정발 가격이 99만원이니 10만 정도 싼건가요..... 88~89 생각하고 있었습니다 ㅎㅎ 50$씩...</div>, <div class=\"list-info\" onclick=\"location.href='https://www.clien.net/service/board/cm_iphonien/11216523'\">문제 없는 버젼을 구입할 것 (티모바일 심프리버젼?) 2. 한국으로 보내는 방법은 페덱스나 DHL 말고 <b>몰테일</b>과 같은 배대지(?)를 이용할 것 (비용때문인가요?) 3. 세금 (10% 맞나요?) 제가 놓쳤거나 잘못알고...</div>, <div class=\"list-info\" onclick=\"location.href='https://www.clien.net/service/board/park/11215306'\">한 1년만에 미국 직구를 할 일이 생겨서, 항상 쓰던 <b>몰테일</b>로 보냈어요. 예전에는 약간 비싸도 빠르다는 인식이 있었거든요 그런데 얘내가 13일에 들어온 물건을 저번주 내내 입고를 안해주다가, 오늘 새벽에야...</div>, <div class=\"list-info\" onclick=\"location.href='https://www.clien.net/service/board/cm_iphonien/11212072'\">정발이랑 비슷한 시기일것 같은데 아닌가요 ? 궁금한게 매우 많네요.. 2대 구매하면 캔슬많이 날까요 ? <b>몰테일</b>로 할까 생각중인데 어느분은 또 보험말씀하시는데..복잡하네요... 배송뜨시는 분들 부럽네요...</div>, <div class=\"list-info\" onclick=\"location.href='https://www.clien.net/service/board/cm_iphonien/11211739'\">아직 중국에서 출발도 안한 상태라서 김칫국 마시는것 같긴 하지만, 혹시 이번 아이폰 8 사신분들 중에 <b>몰테일</b>로 배대지 진행하시는 분들께서는 <b>몰테일</b>에 보험 넣으시나요? 예전 아이폰 6 시절 <b>몰테일</b>에서 분실...</div>]\n"
     ]
    }
   ],
   "source": [
    "from urllib.request import urlopen\n",
    "\n",
    "driver = webdriver.Chrome('C:/Users/Kwon/Desktop/textmining_malltail/selenium/chromedriver')\n",
    "## chromedriver.exe 가 들어있는 폴더를 dir 하여  하여 실행 시킨다 ** 실행시킬 exe 파일 이름까지 마지막 path에 입력해야 한다.\n",
    "k = \"https://www.clien.net/service/search?q=%EB%AA%B0%ED%85%8C%EC%9D%BC&sort=recency&p=0&boardCd=&isBoard=false\"\n",
    "driver.get(k)\n",
    "html = urlopen(k)\n",
    "soup = BeautifulSoup(html,\"html.parser\")\n",
    "subjet_shortname = soup.find_all(\"a\",{\"class\": \"subject-shortname\"})\n",
    "list_subject = soup.find_all(\"a\", {\"class\" : \"list-subject\"})\n",
    "list_info = soup.find_all(\"div\", {\"class\" : \"list-info\"})#### 전체 글의 일부만 끌어 오는것 같다.\n",
    "\n",
    "print(subjet_shortname)\n",
    "print(list_subject)\n",
    "print(list_info)\n",
    "\n",
    "\n",
    "\n",
    "\n"
   ]
  },
  {
   "cell_type": "code",
   "execution_count": null,
   "metadata": {
    "collapsed": true
   },
   "outputs": [],
   "source": []
  }
 ],
 "metadata": {
  "kernelspec": {
   "display_name": "Python 3",
   "language": "python",
   "name": "python3"
  },
  "language_info": {
   "codemirror_mode": {
    "name": "ipython",
    "version": 3
   },
   "file_extension": ".py",
   "mimetype": "text/x-python",
   "name": "python",
   "nbconvert_exporter": "python",
   "pygments_lexer": "ipython3",
   "version": "3.6.1"
  }
 },
 "nbformat": 4,
 "nbformat_minor": 2
}
