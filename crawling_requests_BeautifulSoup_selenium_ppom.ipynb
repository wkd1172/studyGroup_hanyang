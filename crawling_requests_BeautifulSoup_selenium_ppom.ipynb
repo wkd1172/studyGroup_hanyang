{
 "cells": [
  {
   "cell_type": "code",
   "execution_count": 1,
   "metadata": {
    "collapsed": true
   },
   "outputs": [],
   "source": [
    "from urllib.request import urlopen\n",
    "from selenium import webdriver\n",
    "from bs4 import BeautifulSoup\n",
    "import re"
   ]
  },
  {
   "cell_type": "markdown",
   "metadata": {},
   "source": [
    "#로그인을 위하여 import selenium"
   ]
  },
  {
   "cell_type": "code",
   "execution_count": 2,
   "metadata": {
    "collapsed": true
   },
   "outputs": [],
   "source": [
    "driver = webdriver.Chrome('C:/Users/Kwon/Desktop/textmining_malltail/selenium/chromedriver')"
   ]
  },
  {
   "cell_type": "code",
   "execution_count": 3,
   "metadata": {
    "collapsed": true
   },
   "outputs": [],
   "source": [
    "## 보안 프로그램 우회를 위해 3초를 쉬기\n",
    "driver.implicitly_wait(3)"
   ]
  },
  {
   "cell_type": "code",
   "execution_count": 4,
   "metadata": {
    "collapsed": true
   },
   "outputs": [],
   "source": [
    "## 원하는 창으로 이동\n",
    "login_url='https://www.ppomppu.co.kr/zboard/login.php'\n",
    "driver.get(login_url)"
   ]
  },
  {
   "cell_type": "code",
   "execution_count": 7,
   "metadata": {
    "collapsed": true
   },
   "outputs": [],
   "source": [
    "##로그인 하는거 (입력)\n",
    "driver.find_element_by_name('user_id').send_keys('#######')## find_element_by_name을 통해서 source code 의 ' user_id'라는 코딩을 찾는다.\n",
    "driver.find_element_by_name('password').send_keys('#######')"
   ]
  },
  {
   "cell_type": "code",
   "execution_count": 8,
   "metadata": {
    "collapsed": true
   },
   "outputs": [],
   "source": [
    "##로그인 하는거 (클릭)\n",
    "login_button_element = driver.find_element_by_class_name(\"log_btn\")## log_btn 은 class 뒤에 있는 단어이다. \n",
    "login_button_element.click()##### login_button 은 변수명이다. 즉 눌러할 대상값을 입력해 놓은 변수!\n",
    "##### class = \"\" 여기 안에 주소를 변수에 넣을려고 하면 find_element_by_class_name\n",
    "##### name = \"\"  여기 안에 주소를 변수에 넣을려고 하면  find_elemnet_by_name"
   ]
  },
  {
   "cell_type": "code",
   "execution_count": 9,
   "metadata": {},
   "outputs": [
    {
     "name": "stdout",
     "output_type": "stream",
     "text": [
      "무엇을 검색하시겠습니까?몰테일\n"
     ]
    }
   ],
   "source": [
    "## 검색하는거 \n",
    "keyword_1 = input('무엇을 검색하시겠습니까?')## 검색할 키워드 변수에다 입력"
   ]
  },
  {
   "cell_type": "code",
   "execution_count": 10,
   "metadata": {
    "collapsed": true
   },
   "outputs": [],
   "source": [
    "##### ++ class 나 name 등 소스코드의 이름은 고유명사처럼 중복이 없는거 같다 \n",
    "search_input_element = driver.find_element_by_name(\"keyword\")##  소스코드 중 name = \"keyword\" 라는 것을 이용한다.\n",
    "                                                             ##  즉 serch_input... 이라는 변수에 소스코드중 path를 입력한거\n",
    "search_input_element.send_keys(keyword_1)## 키워드 입력\n",
    "search_button_element = driver.find_element_by_tag_name(\"button\")##버튼 누를 주소 입력\n",
    "search_button_element.click()## 변수에 있는 path 대로 클릭"
   ]
  },
  {
   "cell_type": "markdown",
   "metadata": {},
   "source": [
    "# 페이지 소스를 보기 좋은 형태로 불러오기 = BeautifulSoup"
   ]
  },
  {
   "cell_type": "code",
   "execution_count": 11,
   "metadata": {
    "collapsed": true
   },
   "outputs": [],
   "source": [
    "## 지금 driver로 켜져 있는 페이지 소스코드 불러오기\n",
    "pageSource = driver.page_source## 현제 페이지 소스 불러오기"
   ]
  },
  {
   "cell_type": "code",
   "execution_count": 12,
   "metadata": {
    "collapsed": true,
    "scrolled": false
   },
   "outputs": [],
   "source": [
    "## 위의 페이지 소스를 보기 좋은 형태로 \n",
    "bsbj = BeautifulSoup(pageSource, 'html.parser')## 페이지 소스를 보기 좋은 형태로 변경 = 파싱"
   ]
  },
  {
   "cell_type": "code",
   "execution_count": 13,
   "metadata": {},
   "outputs": [
    {
     "data": {
      "text/plain": [
       "'2341'"
      ]
     },
     "execution_count": 13,
     "metadata": {},
     "output_type": "execute_result"
    }
   ],
   "source": [
    "## 전체 페이지수 읽어 오기\n",
    "page =[]\n",
    "for tag in bsbj.select('.pagination > .page > a'):\n",
    "    page.append(tag.text)\n",
    "page\n",
    "pnum = page[-2]\n",
    "pnum    "
   ]
  },
  {
   "cell_type": "code",
   "execution_count": 14,
   "metadata": {
    "collapsed": true
   },
   "outputs": [],
   "source": [
    "count = 0 \n",
    "tagged = ['market', 'relay']"
   ]
  },
  {
   "cell_type": "code",
   "execution_count": 20,
   "metadata": {},
   "outputs": [
    {
     "data": {
      "text/plain": [
       "[<p class=\"desc\">\n",
       " <span>[추천릴레이]</span>\n",
       " <span>조회수: 1</span>\n",
       " <span>2017.09.24</span>\n",
       " <span class=\"like\">0</span>\n",
       " <span class=\"dislike\">0</span>\n",
       " </p>, <p class=\"desc\">\n",
       " <span>[해외포럼]</span>\n",
       " <span>조회수: 564</span>\n",
       " <span>2017.09.24</span>\n",
       " <span class=\"like\">1</span>\n",
       " <span class=\"dislike\">0</span>\n",
       " </p>, <p class=\"desc\">\n",
       " <span>[안드로이드탭]</span>\n",
       " <span>조회수: 307</span>\n",
       " <span>2017.09.24</span>\n",
       " <span class=\"like\">0</span>\n",
       " <span class=\"dislike\">0</span>\n",
       " </p>, <p class=\"desc\">\n",
       " <span>[해외포럼]</span>\n",
       " <span>조회수: 755</span>\n",
       " <span>2017.09.24</span>\n",
       " <span class=\"like\">0</span>\n",
       " <span class=\"dislike\">0</span>\n",
       " </p>, <p class=\"desc\">\n",
       " <span>[해외포럼]</span>\n",
       " <span>조회수: 1859</span>\n",
       " <span>2017.09.24</span>\n",
       " <span class=\"like\">0</span>\n",
       " <span class=\"dislike\">0</span>\n",
       " </p>, <p class=\"desc\">\n",
       " <span>[해외포럼]</span>\n",
       " <span>조회수: 381</span>\n",
       " <span>2017.09.24</span>\n",
       " <span class=\"like\">0</span>\n",
       " <span class=\"dislike\">0</span>\n",
       " </p>, <p class=\"desc\">\n",
       " <span>[해외포럼]</span>\n",
       " <span>조회수: 1328</span>\n",
       " <span>2017.09.24</span>\n",
       " <span class=\"like\">0</span>\n",
       " <span class=\"dislike\">0</span>\n",
       " </p>, <p class=\"desc\">\n",
       " <span>[해외포럼]</span>\n",
       " <span>조회수: 686</span>\n",
       " <span>2017.09.24</span>\n",
       " <span class=\"like\">0</span>\n",
       " <span class=\"dislike\">0</span>\n",
       " </p>, <p class=\"desc\">\n",
       " <span>[해외포럼]</span>\n",
       " <span>조회수: 499</span>\n",
       " <span>2017.09.24</span>\n",
       " <span class=\"like\">0</span>\n",
       " <span class=\"dislike\">0</span>\n",
       " </p>, <p class=\"desc\">\n",
       " <span>[해외포럼]</span>\n",
       " <span>조회수: 836</span>\n",
       " <span>2017.09.24</span>\n",
       " <span class=\"like\">0</span>\n",
       " <span class=\"dislike\">0</span>\n",
       " </p>, <p class=\"desc\">\n",
       " <span>[해외포럼]</span>\n",
       " <span>조회수: 978</span>\n",
       " <span>2017.09.24</span>\n",
       " <span class=\"like\">0</span>\n",
       " <span class=\"dislike\">0</span>\n",
       " </p>, <p class=\"desc\">\n",
       " <span>[해외구매장터]</span>\n",
       " <span>조회수: 0</span>\n",
       " <span>2017.09.23</span>\n",
       " <span class=\"like\">0</span>\n",
       " <span class=\"dislike\">0</span>\n",
       " </p>, <p class=\"desc\">\n",
       " <span>[해외포럼]</span>\n",
       " <span>조회수: 186</span>\n",
       " <span>2017.09.23</span>\n",
       " <span class=\"like\">0</span>\n",
       " <span class=\"dislike\">0</span>\n",
       " </p>, <p class=\"desc\">\n",
       " <span>[해외포럼]</span>\n",
       " <span>조회수: 1214</span>\n",
       " <span>2017.09.23</span>\n",
       " <span class=\"like\">0</span>\n",
       " <span class=\"dislike\">0</span>\n",
       " </p>, <p class=\"desc\">\n",
       " <span>[해외포럼]</span>\n",
       " <span>조회수: 2975</span>\n",
       " <span>2017.09.23</span>\n",
       " <span class=\"like\">0</span>\n",
       " <span class=\"dislike\">0</span>\n",
       " </p>, <p class=\"desc\">\n",
       " <span>[해외포럼]</span>\n",
       " <span>조회수: 753</span>\n",
       " <span>2017.09.23</span>\n",
       " <span class=\"like\">0</span>\n",
       " <span class=\"dislike\">0</span>\n",
       " </p>, <p class=\"desc\">\n",
       " <span>[해외포럼]</span>\n",
       " <span>조회수: 226</span>\n",
       " <span>2017.09.23</span>\n",
       " <span class=\"like\">0</span>\n",
       " <span class=\"dislike\">0</span>\n",
       " </p>, <p class=\"desc\">\n",
       " <span>[해외포럼]</span>\n",
       " <span>조회수: 261</span>\n",
       " <span>2017.09.23</span>\n",
       " <span class=\"like\">0</span>\n",
       " <span class=\"dislike\">0</span>\n",
       " </p>, <p class=\"desc\">\n",
       " <span>[해외포럼]</span>\n",
       " <span>조회수: 297</span>\n",
       " <span>2017.09.22</span>\n",
       " <span class=\"like\">0</span>\n",
       " <span class=\"dislike\">0</span>\n",
       " </p>, <p class=\"desc\">\n",
       " <span>[추천릴레이]</span>\n",
       " <span>조회수: 20</span>\n",
       " <span>2017.09.22</span>\n",
       " <span class=\"like\">0</span>\n",
       " <span class=\"dislike\">0</span>\n",
       " </p>]"
      ]
     },
     "execution_count": 20,
     "metadata": {},
     "output_type": "execute_result"
    }
   ],
   "source": [
    "\n",
    "ppompage = 'http://www.ppomppu.co.kr/search_bbs.php?search_type=sub_memo&page_no=1&keyword=%EB%AA%B0%ED%85%8C%EC%9D%BC&page_size=20&bbs_id=&order_type=date&bbs_cate=1'\n",
    "html = urlopen(ppompage)    \n",
    "bsObj_p = BeautifulSoup(html, 'html.parser')\n",
    "day_n_view = bsObj_p.find_all('p',{\"class\":\"desc\"})### 조회수,날짜,분류\n",
    "day_n_view"
   ]
  },
  {
   "cell_type": "code",
   "execution_count": 23,
   "metadata": {},
   "outputs": [
    {
     "data": {
      "text/plain": [
       "<p class=\"desc\">\n",
       "<span>[해외포럼]</span>\n",
       "<span>조회수: 564</span>\n",
       "<span>2017.09.24</span>\n",
       "<span class=\"like\">1</span>\n",
       "<span class=\"dislike\">0</span>\n",
       "</p>"
      ]
     },
     "execution_count": 23,
     "metadata": {},
     "output_type": "execute_result"
    }
   ],
   "source": [
    "day_n_view[1]#### 이 변수의 구분자는 output 으로만 판단하면 ㄴㄴ --> 실제 인덱스\"[n]\"를 넣어보고 판단해야 한다."
   ]
  },
  {
   "cell_type": "code",
   "execution_count": 24,
   "metadata": {},
   "outputs": [
    {
     "data": {
      "text/plain": [
       "[['[추천릴레이]', '조회수: 1', '2017.09.24', '0', '0'],\n",
       " ['[해외포럼]', '조회수: 564', '2017.09.24', '1', '0'],\n",
       " ['[안드로이드탭]', '조회수: 307', '2017.09.24', '0', '0'],\n",
       " ['[해외포럼]', '조회수: 755', '2017.09.24', '0', '0'],\n",
       " ['[해외포럼]', '조회수: 1859', '2017.09.24', '0', '0'],\n",
       " ['[해외포럼]', '조회수: 381', '2017.09.24', '0', '0'],\n",
       " ['[해외포럼]', '조회수: 1328', '2017.09.24', '0', '0'],\n",
       " ['[해외포럼]', '조회수: 686', '2017.09.24', '0', '0'],\n",
       " ['[해외포럼]', '조회수: 499', '2017.09.24', '0', '0'],\n",
       " ['[해외포럼]', '조회수: 836', '2017.09.24', '0', '0'],\n",
       " ['[해외포럼]', '조회수: 978', '2017.09.24', '0', '0'],\n",
       " ['[해외구매장터]', '조회수: 0', '2017.09.23', '0', '0'],\n",
       " ['[해외포럼]', '조회수: 186', '2017.09.23', '0', '0'],\n",
       " ['[해외포럼]', '조회수: 1214', '2017.09.23', '0', '0'],\n",
       " ['[해외포럼]', '조회수: 2975', '2017.09.23', '0', '0'],\n",
       " ['[해외포럼]', '조회수: 753', '2017.09.23', '0', '0'],\n",
       " ['[해외포럼]', '조회수: 226', '2017.09.23', '0', '0'],\n",
       " ['[해외포럼]', '조회수: 261', '2017.09.23', '0', '0'],\n",
       " ['[해외포럼]', '조회수: 297', '2017.09.22', '0', '0'],\n",
       " ['[추천릴레이]', '조회수: 20', '2017.09.22', '0', '0']]"
      ]
     },
     "execution_count": 24,
     "metadata": {},
     "output_type": "execute_result"
    }
   ],
   "source": [
    "sss= []\n",
    "for d in day_n_view:\n",
    "        kkk = d.get_text().strip().split(sep='\\n')\n",
    "        sss.append(kkk)\n",
    "sss\n"
   ]
  },
  {
   "cell_type": "markdown",
   "metadata": {},
   "source": [
    "###for tag in bsObj_p.select('.content > .title > a'):##select('.content > .title > a') 안에 있는 문법이 정확히 이해가 ㄴㄴ\n",
    "\n",
    "### -->  page source 중에 .content(앞의\".\"은 특정 범위의 단계를 이야기 한다.)이름의 필드 그안에 (\">\"표현은 \"안\"이다) .title 안에(>) a 로 시작하는 부분을 crawling 해와라!!!\n"
   ]
  },
  {
   "cell_type": "code",
   "execution_count": null,
   "metadata": {
    "collapsed": true
   },
   "outputs": [],
   "source": []
  },
  {
   "cell_type": "code",
   "execution_count": 29,
   "metadata": {},
   "outputs": [
    {
     "name": "stdout",
     "output_type": "stream",
     "text": [
      "글 제목 :  * [해외직구] 방법요약 / 아이허브 영양제 $10 할인 / 직구 필수사이트 \n",
      "링크 : http://www.ppomppu.co.kr/zboard/view.php?id=relay&no=265554&keyword=%B8%F4%C5%D7%C0%CF\n",
      "작성 게시판 :  [추천릴레이]   조회수: 1  작성 날짜 :  2017.09.24\n",
      "글 번호 : 265554\n",
      "글 제목 :  심플 공홈 se 주소변경이..몰테일 경우 \n",
      "링크 : http://www.ppomppu.co.kr/zboard/view.php?id=oversea&no=632494&keyword=%B8%F4%C5%D7%C0%CF\n",
      "작성 게시판 :  [추천릴레이]   조회수: 1  작성 날짜 :  2017.09.24\n",
      "글 번호 : 632494\n",
      "글 제목 :  라쿠텐 지패드10.1 수령하신분요 \n",
      "링크 : http://www.ppomppu.co.kr/zboard/view.php?id=androidtab&no=131742&keyword=%B8%F4%C5%D7%C0%CF\n",
      "작성 게시판 :  [추천릴레이]   조회수: 1  작성 날짜 :  2017.09.24\n",
      "글 번호 : 131742\n",
      "글 제목 :  bestbuy  아이폰 로즈골드 아직 남아있는거 같아서 하려고하는데요 질문좀.. \n",
      "링크 : http://www.ppomppu.co.kr/zboard/view.php?id=oversea&no=632460&keyword=%B8%F4%C5%D7%C0%CF\n",
      "작성 게시판 :  [추천릴레이]   조회수: 1  작성 날짜 :  2017.09.24\n",
      "글 번호 : 632460\n",
      "글 제목 :  심플모바일 아이폰SE 주문했습니다. \n",
      "링크 : http://www.ppomppu.co.kr/zboard/view.php?id=oversea&no=632439&keyword=%B8%F4%C5%D7%C0%CF\n",
      "작성 게시판 :  [추천릴레이]   조회수: 1  작성 날짜 :  2017.09.24\n",
      "글 번호 : 632439\n",
      "글 제목 :  심플모바일 SE 몰테일 고정배송비 되나요? \n",
      "링크 : http://www.ppomppu.co.kr/zboard/view.php?id=oversea&no=632434&keyword=%B8%F4%C5%D7%C0%CF\n",
      "작성 게시판 :  [추천릴레이]   조회수: 1  작성 날짜 :  2017.09.24\n",
      "글 번호 : 632434\n",
      "글 제목 :  베바도 그냥 참았는대 심플모바일 104.19는... \n",
      "링크 : http://www.ppomppu.co.kr/zboard/view.php?id=oversea&no=632433&keyword=%B8%F4%C5%D7%C0%CF\n",
      "작성 게시판 :  [추천릴레이]   조회수: 1  작성 날짜 :  2017.09.24\n",
      "글 번호 : 632433\n",
      "글 제목 :  조금의 버벅임 끝에 심플모바일 아이폰 se 주문했네요. \n",
      "링크 : http://www.ppomppu.co.kr/zboard/view.php?id=oversea&no=632430&keyword=%B8%F4%C5%D7%C0%CF\n",
      "작성 게시판 :  [추천릴레이]   조회수: 1  작성 날짜 :  2017.09.24\n",
      "글 번호 : 632430\n",
      "글 제목 :  주소 이런식으로 적어도 배송이 되나요? \n",
      "링크 : http://www.ppomppu.co.kr/zboard/view.php?id=oversea&no=632423&keyword=%B8%F4%C5%D7%C0%CF\n",
      "작성 게시판 :  [추천릴레이]   조회수: 1  작성 날짜 :  2017.09.24\n",
      "글 번호 : 632423\n",
      "글 제목 :  심플공홈 SE 성공이네요 ㅋ \n",
      "링크 : http://www.ppomppu.co.kr/zboard/view.php?id=oversea&no=632420&keyword=%B8%F4%C5%D7%C0%CF\n",
      "작성 게시판 :  [추천릴레이]   조회수: 1  작성 날짜 :  2017.09.24\n",
      "글 번호 : 632420\n",
      "글 제목 :  진짜심심해서 se 90분째 도전중 \n",
      "링크 : http://www.ppomppu.co.kr/zboard/view.php?id=oversea&no=632419&keyword=%B8%F4%C5%D7%C0%CF\n",
      "작성 게시판 :  [추천릴레이]   조회수: 1  작성 날짜 :  2017.09.24\n",
      "글 번호 : 632419\n",
      "글 제목 :  심플모바일 아이폰se 32gb 골드 배대지 변경으로 판매 합니다 \n",
      "링크 : http://www.ppomppu.co.kr/zboard/view.php?id=market_oversea&no=486015&keyword=%B8%F4%C5%D7%C0%CF\n",
      "작성 게시판 :  [추천릴레이]   조회수: 1  작성 날짜 :  2017.09.24\n",
      "글 번호 : 486015\n",
      "글 제목 :  아마존 타퍼 주문할려는데요 \n",
      "링크 : http://www.ppomppu.co.kr/zboard/view.php?id=oversea&no=632401&keyword=%B8%F4%C5%D7%C0%CF\n",
      "작성 게시판 :  [추천릴레이]   조회수: 1  작성 날짜 :  2017.09.24\n",
      "글 번호 : 632401\n",
      "글 제목 :  저도 아이폰 SE 샀네요... \n",
      "링크 : http://www.ppomppu.co.kr/zboard/view.php?id=oversea&no=632399&keyword=%B8%F4%C5%D7%C0%CF\n",
      "작성 게시판 :  [추천릴레이]   조회수: 1  작성 날짜 :  2017.09.24\n",
      "글 번호 : 632399\n",
      "글 제목 :  심플모바일 7전8기 아이폰se 골드 성공후기입니다. \n",
      "링크 : http://www.ppomppu.co.kr/zboard/view.php?id=oversea&no=632382&keyword=%B8%F4%C5%D7%C0%CF\n",
      "작성 게시판 :  [추천릴레이]   조회수: 1  작성 날짜 :  2017.09.24\n",
      "글 번호 : 632382\n",
      "글 제목 :  심플모바일 se 골드로 새벽에 결제하고 배송중이네요. \n",
      "링크 : http://www.ppomppu.co.kr/zboard/view.php?id=oversea&no=632356&keyword=%B8%F4%C5%D7%C0%CF\n",
      "작성 게시판 :  [추천릴레이]   조회수: 1  작성 날짜 :  2017.09.24\n",
      "글 번호 : 632356\n",
      "글 제목 :  올버즈 신발 결제 난이도가 있나요 ??? \n",
      "링크 : http://www.ppomppu.co.kr/zboard/view.php?id=oversea&no=632341&keyword=%B8%F4%C5%D7%C0%CF\n",
      "작성 게시판 :  [추천릴레이]   조회수: 1  작성 날짜 :  2017.09.24\n",
      "글 번호 : 632341\n",
      "글 제목 :  고정배송비싸고 빠른 배대지좀 있나요?? \n",
      "링크 : http://www.ppomppu.co.kr/zboard/view.php?id=oversea&no=632288&keyword=%B8%F4%C5%D7%C0%CF\n",
      "작성 게시판 :  [추천릴레이]   조회수: 1  작성 날짜 :  2017.09.24\n",
      "글 번호 : 632288\n",
      "글 제목 :  페덱스 물건 파기 도와주세요 ㅠㅠ \n",
      "링크 : http://www.ppomppu.co.kr/zboard/view.php?id=oversea&no=632235&keyword=%B8%F4%C5%D7%C0%CF\n",
      "작성 게시판 :  [추천릴레이]   조회수: 1  작성 날짜 :  2017.09.24\n",
      "글 번호 : 632235\n",
      "글 제목 :  * [해외직구] 방법요약 / 아이허브 영양제 $10 할인 / 직구 필수사이트 \n",
      "링크 : http://www.ppomppu.co.kr/zboard/view.php?id=relay&no=265358&keyword=%B8%F4%C5%D7%C0%CF\n",
      "작성 게시판 :  [추천릴레이]   조회수: 1  작성 날짜 :  2017.09.24\n",
      "글 번호 : 265358\n"
     ]
    }
   ],
   "source": [
    "for tag in bsObj_p.select('.content > .title > a'):##select('.content > .title > a') 안에 있는 문법이 정확히 이해가\n",
    "    print(\"글 제목 : \", tag.text, \"\\n링크 :\", tag['href']) #글 제목과 링크\n",
    "    print(\"작성 게시판 : \",sss[count][0],\" \",sss[count][1],\" 작성 날짜 : \",sss[count][2]) #작성 게시판, 조회수, 날짜\n",
    "    k = tag['href']\n",
    "    num = re.search('no=(.+)&k',k)\n",
    "    cnum = num.group(1)\n",
    "    print(\"글 번호 :\", cnum)\n",
    "    html_c = urlopen(k)\n",
    "    soup = BeautifulSoup(html_c, 'html.parser')\n",
    "    error = soup.find_all(\"div\", {\"class\" :\"error2\"})"
   ]
  },
  {
   "cell_type": "code",
   "execution_count": null,
   "metadata": {
    "collapsed": true
   },
   "outputs": [],
   "source": []
  }
 ],
 "metadata": {
  "kernelspec": {
   "display_name": "Python 3",
   "language": "python",
   "name": "python3"
  },
  "language_info": {
   "codemirror_mode": {
    "name": "ipython",
    "version": 3
   },
   "file_extension": ".py",
   "mimetype": "text/x-python",
   "name": "python",
   "nbconvert_exporter": "python",
   "pygments_lexer": "ipython3",
   "version": "3.6.1"
  }
 },
 "nbformat": 4,
 "nbformat_minor": 2
}
